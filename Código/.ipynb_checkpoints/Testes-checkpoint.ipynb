{
 "cells": [
  {
   "cell_type": "code",
   "execution_count": 1,
   "id": "fb1bff65-6e9c-4181-ad97-d0066dda80da",
   "metadata": {},
   "outputs": [],
   "source": [
    "from main import main_crud"
   ]
  },
  {
   "cell_type": "code",
   "execution_count": null,
   "id": "31d5ae99-1d8a-4ea1-82e1-d90c706784ca",
   "metadata": {},
   "outputs": [
    {
     "name": "stdin",
     "output_type": "stream",
     "text": [
      "Digite um comando (Adicionar, Excluir, Alterar, Ver, Sair):  adicionar\n",
      "Nome da tarefa:  Ler\n",
      "Tipo (Para Fazer, Fazendo):  Para fazer\n",
      "Digite um comando (Adicionar, Excluir, Alterar, Ver, Sair):  adicionar\n",
      "Nome da tarefa:  Dormir\n",
      "Tipo (Para Fazer, Fazendo):  fazendo\n",
      "Digite um comando (Adicionar, Excluir, Alterar, Ver, Sair):  ver\n",
      "Quais listas deseja imprimir? (Para fazer, Fazendo, Completo):  para fazer fazendo\n"
     ]
    },
    {
     "name": "stdout",
     "output_type": "stream",
     "text": [
      "Para Fazer:\n",
      "1 - Dormir\n",
      "\n"
     ]
    }
   ],
   "source": [
    "main_crud()"
   ]
  },
  {
   "cell_type": "markdown",
   "id": "cd9acdd9-8b85-4906-9cf1-780bf3c1da12",
   "metadata": {},
   "source": [
    "Primeiro erro: a lista para fazer nunca iria ser imprimida, pois é usado um método split() no input, o que não é necessário e deve ser corrigido."
   ]
  },
  {
   "cell_type": "code",
   "execution_count": null,
   "id": "f85b9c45-e4e8-4f90-b1a6-29133384649c",
   "metadata": {},
   "outputs": [],
   "source": []
  }
 ],
 "metadata": {
  "kernelspec": {
   "display_name": "Python 3 (ipykernel)",
   "language": "python",
   "name": "python3"
  },
  "language_info": {
   "codemirror_mode": {
    "name": "ipython",
    "version": 3
   },
   "file_extension": ".py",
   "mimetype": "text/x-python",
   "name": "python",
   "nbconvert_exporter": "python",
   "pygments_lexer": "ipython3",
   "version": "3.12.7"
  }
 },
 "nbformat": 4,
 "nbformat_minor": 5
}
