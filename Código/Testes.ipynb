{
 "cells": [
  {
   "cell_type": "code",
   "execution_count": 1,
   "id": "1ae66e3d",
   "metadata": {},
   "outputs": [],
   "source": [
    "def main_crud():\n",
    "    parafazer = []\n",
    "    fazendo = []\n",
    "    completo = []\n",
    "\n",
    "    while True:\n",
    "        comando = input(\"Digite um comando (Adicionar, Excluir, Alterar, Ver, Sair): \").strip().lower()\n",
    "\n",
    "        if comando == \"adicionar\":\n",
    "            tarefa = input(\"Nome da tarefa: \").strip()\n",
    "            tipo = input(\"Tipo (Para Fazer, Fazendo): \").strip().lower()\n",
    "\n",
    "            if tipo == \"para fazer\":\n",
    "                if tarefa in parafazer or tarefa in parafazer:\n",
    "                    print(\"Tarefa já existe\")\n",
    "                    continue\n",
    "                elif tarefa in completo:\n",
    "                    completo.remove(tarefa)\n",
    "                parafazer.append(tarefa)\n",
    "            elif tipo == \"fazendo\":\n",
    "                if tarefa in fazendo or tarefa in parafazer:\n",
    "                    print(\"Tarefa já existe\")\n",
    "                    continue\n",
    "                elif tarefa in completo:\n",
    "                    completo.remove(tarefa)\n",
    "                fazendo.append(tarefa)\n",
    "            elif tipo == \"completo\":\n",
    "                print(\"Não se pode inserir tarefas completas!\")\n",
    "            else:\n",
    "                print(\"Tipo inválido\")\n",
    "        elif comando == \"excluir\":\n",
    "            tarefa = input(\"Nome da tarefa: \").strip()\n",
    "\n",
    "            if tarefa in parafazer:\n",
    "                parafazer.remove(tarefa)\n",
    "            elif tarefa in fazendo:\n",
    "                fazendo.remove(tarefa)\n",
    "            elif tarefa in completo:\n",
    "                completo.remove(tarefa)\n",
    "            else:\n",
    "                print(\"Esta tarefa não foi encontrada!\")\n",
    "        elif comando == \"alterar\":\n",
    "            operacao = input(\"Tipo de alteração (Fazer, Completar, Alterar): \").strip().lower()\n",
    "            tarefa = input(\"Nome da tarefa: \").strip()\n",
    "\n",
    "            if operacao == \"fazer\":\n",
    "                if not tarefa in parafazer:\n",
    "                    print(\"Esta tarefa não está para fazer.\")\n",
    "                    continue\n",
    "                    \n",
    "                # fazendo.append(parafazer.pop(tarefa))\n",
    "                parafazer.remove(tarefa)\n",
    "                fazendo.append(tarefa)\n",
    "\n",
    "            elif operacao == \"completar\":\n",
    "                #if not (tarefa in fazendo and tarefa in parafazer):\n",
    "                if (not tarefa in fazendo) and (not tarefa in parafazer):\n",
    "                    print(\"Esta tarefa não está para fazer ou sendo feita.\")\n",
    "                    continue\n",
    "                #completo.append(parafazer.pop(tarefa) if tarefa in parafazer else fazendo.pop(tarefa))\n",
    "                parafazer.remove(tarefa) if tarefa in parafazer else fazendo.remove(tarefa)\n",
    "                completo.append(tarefa)\n",
    "\n",
    "            elif operacao == \"alterar\":\n",
    "                if tarefa in parafazer:\n",
    "                    parafazer.insert(parafazer.index(tarefa), input(\"Novo nome: \").strip())\n",
    "                    parafazer.remove(tarefa)\n",
    "                elif tarefa in fazendo:\n",
    "                    fazendo.insert(fazendo.index(tarefa), input(\"Novo nome: \").strip())\n",
    "                    fazendo.remove(tarefa)\n",
    "                elif tarefa in completo:\n",
    "                    completo.insert(completo.index(tarefa), input(\"Novo nome: \").strip())\n",
    "                    fazendo.remove(tarefa)\n",
    "                else:\n",
    "                    print(\"Esta tarefa não foi encontrada!\")\n",
    "\n",
    "            else:\n",
    "                print(\"Operação inválida!\")\n",
    "            \n",
    "        elif comando == \"ver\":\n",
    "            #listas = input(\"Quais listas deseja imprimir? (Para fazer, Fazendo, Completo): \").lower().split()\n",
    "            listas = input(\"Quais listas deseja imprimir? (Para fazer, Fazendo, Completo): \").lower()\n",
    "            \n",
    "            if \"para fazer\" in listas:\n",
    "                print(\"Para Fazer:\")\n",
    "                for indice, item in enumerate(parafazer):\n",
    "                    print(f\"{indice + 1} - {item}\")\n",
    "                print()\n",
    "            if \"fazendo\" in listas:\n",
    "                print(\"Fazendo:\")\n",
    "                for indice, item in enumerate(fazendo):\n",
    "                    print(f\"{indice + 1} - {item}\")\n",
    "                print()\n",
    "            if \"completo\" in listas:\n",
    "                print(\"Completo:\")\n",
    "                for indice, item in enumerate(completo):\n",
    "                    print(f\"{indice + 1} - {item}\")\n",
    "                print()\n",
    "            \n",
    "        elif comando == \"sair\":\n",
    "            break\n",
    "        else:\n",
    "            print(\"Comando inválido!\")"
   ]
  },
  {
   "cell_type": "code",
   "execution_count": 2,
   "id": "dce3acf5-8f07-48d8-ae06-69bc36e15270",
   "metadata": {},
   "outputs": [
    {
     "name": "stdout",
     "output_type": "stream",
     "text": [
      "Digite um comando (Adicionar, Excluir, Alterar, Ver, Sair):  adicionar\n",
      "Nome da tarefa:  Ler\n",
      "Tipo (Para Fazer, Fazendo):  para fazer\n",
      "Digite um comando (Adicionar, Excluir, Alterar, Ver, Sair):  adicionar\n",
      "Nome da tarefa:  Dormir\n",
      "Tipo (Para Fazer, Fazendo):  fazendo\n",
      "Digite um comando (Adicionar, Excluir, Alterar, Ver, Sair):  ver\n",
      "Quais listas deseja imprimir? (Para fazer, Fazendo, Completo):  para fazer fazendo\n"
     ]
    },
    {
     "name": "stdout",
     "output_type": "stream",
     "text": [
      "Para Fazer:\n",
      "1 - Dormir\n",
      "\n"
     ]
    },
    {
     "name": "stdout",
     "output_type": "stream",
     "text": [
      "Digite um comando (Adicionar, Excluir, Alterar, Ver, Sair):  sair\n"
     ]
    }
   ],
   "source": [
    "main_crud()"
   ]
  },
  {
   "cell_type": "markdown",
   "id": "57d23bc4-3b7c-42d4-91b9-0c88929b9ba3",
   "metadata": {},
   "source": [
    "### Primeiro erro: na funcionalidade de ver, é usado um método split() no input que não é necessário e afeta o funcionamento correto."
   ]
  },
  {
   "cell_type": "code",
   "execution_count": 4,
   "id": "38a74f7d-e06d-45a2-8bf5-97e381afca8a",
   "metadata": {},
   "outputs": [
    {
     "name": "stdout",
     "output_type": "stream",
     "text": [
      "Digite um comando (Adicionar, Excluir, Alterar, Ver, Sair):  adicionar\n",
      "Nome da tarefa:  Ler\n",
      "Tipo (Para Fazer, Fazendo):  para fazer\n",
      "Digite um comando (Adicionar, Excluir, Alterar, Ver, Sair):  adicionar\n",
      "Nome da tarefa:  Dormir\n",
      "Tipo (Para Fazer, Fazendo):  fazendo\n",
      "Digite um comando (Adicionar, Excluir, Alterar, Ver, Sair):  ver\n",
      "Quais listas deseja imprimir? (Para fazer, Fazendo, Completo):  para fazer fazendo\n"
     ]
    },
    {
     "name": "stdout",
     "output_type": "stream",
     "text": [
      "Para Fazer:\n",
      "1 - Ler\n",
      "\n",
      "Para Fazer:\n",
      "1 - Dormir\n",
      "\n"
     ]
    },
    {
     "name": "stdout",
     "output_type": "stream",
     "text": [
      "Digite um comando (Adicionar, Excluir, Alterar, Ver, Sair):  alterar\n",
      "Tipo de alteração (Fazer, Completar, Alterar):  fazer\n",
      "Nome da tarefa:  Ler\n"
     ]
    },
    {
     "ename": "TypeError",
     "evalue": "'str' object cannot be interpreted as an integer",
     "output_type": "error",
     "traceback": [
      "\u001b[1;31m---------------------------------------------------------------------------\u001b[0m",
      "\u001b[1;31mTypeError\u001b[0m                                 Traceback (most recent call last)",
      "Cell \u001b[1;32mIn[4], line 1\u001b[0m\n\u001b[1;32m----> 1\u001b[0m \u001b[43mmain_crud\u001b[49m\u001b[43m(\u001b[49m\u001b[43m)\u001b[49m\n",
      "Cell \u001b[1;32mIn[3], line 40\u001b[0m, in \u001b[0;36mmain_crud\u001b[1;34m()\u001b[0m\n\u001b[0;32m     38\u001b[0m         \u001b[38;5;28mprint\u001b[39m(\u001b[38;5;124m\"\u001b[39m\u001b[38;5;124mEsta tarefa não está para fazer.\u001b[39m\u001b[38;5;124m\"\u001b[39m)\n\u001b[0;32m     39\u001b[0m         \u001b[38;5;28;01mcontinue\u001b[39;00m\n\u001b[1;32m---> 40\u001b[0m     fazendo\u001b[38;5;241m.\u001b[39mappend(\u001b[43mparafazer\u001b[49m\u001b[38;5;241;43m.\u001b[39;49m\u001b[43mpop\u001b[49m\u001b[43m(\u001b[49m\u001b[43mtarefa\u001b[49m\u001b[43m)\u001b[49m)\n\u001b[0;32m     42\u001b[0m \u001b[38;5;28;01melif\u001b[39;00m operacao \u001b[38;5;241m==\u001b[39m \u001b[38;5;124m\"\u001b[39m\u001b[38;5;124mcompletar\u001b[39m\u001b[38;5;124m\"\u001b[39m:\n\u001b[0;32m     43\u001b[0m     \u001b[38;5;28;01mif\u001b[39;00m \u001b[38;5;129;01mnot\u001b[39;00m (tarefa \u001b[38;5;129;01min\u001b[39;00m fazendo \u001b[38;5;129;01mand\u001b[39;00m tarefa \u001b[38;5;129;01min\u001b[39;00m parafazer):\n",
      "\u001b[1;31mTypeError\u001b[0m: 'str' object cannot be interpreted as an integer"
     ]
    }
   ],
   "source": [
    "main_crud()"
   ]
  },
  {
   "cell_type": "markdown",
   "id": "15af6755-8593-46c8-8cc4-360bb56040d7",
   "metadata": {},
   "source": [
    "### Segundo erro: o método pop() na funcionalidade é usado incorretamente. Devem ser usados os método remove() e append() separados."
   ]
  },
  {
   "cell_type": "code",
   "execution_count": 7,
   "id": "82880124-909a-48ab-b68e-77f817324c01",
   "metadata": {},
   "outputs": [
    {
     "name": "stdout",
     "output_type": "stream",
     "text": [
      "Digite um comando (Adicionar, Excluir, Alterar, Ver, Sair):  adicionar\n",
      "Nome da tarefa:  Ler\n",
      "Tipo (Para Fazer, Fazendo):  para fazer\n",
      "Digite um comando (Adicionar, Excluir, Alterar, Ver, Sair):  adicionar\n",
      "Nome da tarefa:  Dormir\n",
      "Tipo (Para Fazer, Fazendo):  fazendo\n",
      "Digite um comando (Adicionar, Excluir, Alterar, Ver, Sair):  ver\n",
      "Quais listas deseja imprimir? (Para fazer, Fazendo, Completo):  para fazer fazendo\n"
     ]
    },
    {
     "name": "stdout",
     "output_type": "stream",
     "text": [
      "Para Fazer:\n",
      "1 - Ler\n",
      "\n",
      "Para Fazer:\n",
      "1 - Dormir\n",
      "\n"
     ]
    },
    {
     "name": "stdout",
     "output_type": "stream",
     "text": [
      "Digite um comando (Adicionar, Excluir, Alterar, Ver, Sair):  alterar\n",
      "Tipo de alteração (Fazer, Completar, Alterar):  fazer\n",
      "Nome da tarefa:  Ler\n",
      "Digite um comando (Adicionar, Excluir, Alterar, Ver, Sair):  ver\n",
      "Quais listas deseja imprimir? (Para fazer, Fazendo, Completo):  fazendo\n"
     ]
    },
    {
     "name": "stdout",
     "output_type": "stream",
     "text": [
      "Para Fazer:\n",
      "1 - Dormir\n",
      "2 - Ler\n",
      "\n"
     ]
    },
    {
     "name": "stdout",
     "output_type": "stream",
     "text": [
      "Digite um comando (Adicionar, Excluir, Alterar, Ver, Sair):  alterar\n",
      "Tipo de alteração (Fazer, Completar, Alterar):  completar\n",
      "Nome da tarefa:  Dormir\n"
     ]
    },
    {
     "name": "stdout",
     "output_type": "stream",
     "text": [
      "Esta tarefa não está para fazer ou sendo feita.\n"
     ]
    },
    {
     "name": "stdout",
     "output_type": "stream",
     "text": [
      "Digite um comando (Adicionar, Excluir, Alterar, Ver, Sair):  sair\n"
     ]
    }
   ],
   "source": [
    "main_crud()"
   ]
  },
  {
   "cell_type": "markdown",
   "id": "2e6b6834-d463-4cb1-8154-cf30ab3d5fb2",
   "metadata": {},
   "source": [
    "### Terceiro erro: a condicional de verificação da funcionalidade de completar estava errada. Além disso, a funcionalidade ver imprimiu \"para fazer\" ao invés de \"fazendo\" para as tarefas sendo feitas."
   ]
  },
  {
   "cell_type": "code",
   "execution_count": 9,
   "id": "05bf0ed9-481f-40f4-9fcf-1a71c5b79883",
   "metadata": {},
   "outputs": [
    {
     "name": "stdout",
     "output_type": "stream",
     "text": [
      "Digite um comando (Adicionar, Excluir, Alterar, Ver, Sair):  adicionar\n",
      "Nome da tarefa:  Ler\n",
      "Tipo (Para Fazer, Fazendo):  para fazer\n",
      "Digite um comando (Adicionar, Excluir, Alterar, Ver, Sair):  adicionar\n",
      "Nome da tarefa:  Dormir\n",
      "Tipo (Para Fazer, Fazendo):  fazendo\n",
      "Digite um comando (Adicionar, Excluir, Alterar, Ver, Sair):  ver\n",
      "Quais listas deseja imprimir? (Para fazer, Fazendo, Completo):  para fazer fazendo\n"
     ]
    },
    {
     "name": "stdout",
     "output_type": "stream",
     "text": [
      "Para Fazer:\n",
      "1 - Ler\n",
      "\n",
      "Fazendo:\n",
      "1 - Dormir\n",
      "\n"
     ]
    },
    {
     "name": "stdout",
     "output_type": "stream",
     "text": [
      "Digite um comando (Adicionar, Excluir, Alterar, Ver, Sair):  alterar\n",
      "Tipo de alteração (Fazer, Completar, Alterar):  fazer\n",
      "Nome da tarefa:  Ler\n",
      "Digite um comando (Adicionar, Excluir, Alterar, Ver, Sair):  ver\n",
      "Quais listas deseja imprimir? (Para fazer, Fazendo, Completo):  fazendo\n"
     ]
    },
    {
     "name": "stdout",
     "output_type": "stream",
     "text": [
      "Fazendo:\n",
      "1 - Dormir\n",
      "2 - Ler\n",
      "\n"
     ]
    },
    {
     "name": "stdout",
     "output_type": "stream",
     "text": [
      "Digite um comando (Adicionar, Excluir, Alterar, Ver, Sair):  alterar\n",
      "Tipo de alteração (Fazer, Completar, Alterar):  completar\n",
      "Nome da tarefa:  Dormir\n",
      "Digite um comando (Adicionar, Excluir, Alterar, Ver, Sair):  ver\n",
      "Quais listas deseja imprimir? (Para fazer, Fazendo, Completo):  fazendo completo\n"
     ]
    },
    {
     "name": "stdout",
     "output_type": "stream",
     "text": [
      "Fazendo:\n",
      "1 - Ler\n",
      "\n",
      "Completo:\n",
      "1 - Dormir\n",
      "\n"
     ]
    },
    {
     "name": "stdout",
     "output_type": "stream",
     "text": [
      "Digite um comando (Adicionar, Excluir, Alterar, Ver, Sair):  alterar\n",
      "Tipo de alteração (Fazer, Completar, Alterar):  alterar\n",
      "Nome da tarefa:  Ler\n",
      "Novo nome:  Estudar\n",
      "Digite um comando (Adicionar, Excluir, Alterar, Ver, Sair):  ver\n",
      "Quais listas deseja imprimir? (Para fazer, Fazendo, Completo):  fazendo\n"
     ]
    },
    {
     "name": "stdout",
     "output_type": "stream",
     "text": [
      "Fazendo:\n",
      "1 - Estudar\n",
      "2 - Ler\n",
      "\n"
     ]
    },
    {
     "name": "stdout",
     "output_type": "stream",
     "text": [
      "Digite um comando (Adicionar, Excluir, Alterar, Ver, Sair):  sair\n"
     ]
    }
   ],
   "source": [
    "main_crud()"
   ]
  },
  {
   "cell_type": "markdown",
   "id": "6bf5de72-29c2-4697-8b01-59dcf63591d9",
   "metadata": {},
   "source": [
    "### Quarto erro: na funcionalidade de alterar, o nome anterior não é excluído"
   ]
  },
  {
   "cell_type": "code",
   "execution_count": 5,
   "id": "d092bffc-0d61-4628-adcd-bc40844b311c",
   "metadata": {},
   "outputs": [
    {
     "name": "stdout",
     "output_type": "stream",
     "text": [
      "Digite um comando (Adicionar, Excluir, Alterar, Ver, Sair):  adicionar\n",
      "Nome da tarefa:  Ler\n",
      "Tipo (Para Fazer, Fazendo):  para fazer\n",
      "Digite um comando (Adicionar, Excluir, Alterar, Ver, Sair):  adicionar\n",
      "Nome da tarefa:  Dormir\n",
      "Tipo (Para Fazer, Fazendo):  fazendo\n",
      "Digite um comando (Adicionar, Excluir, Alterar, Ver, Sair):  ver\n",
      "Quais listas deseja imprimir? (Para fazer, Fazendo, Completo):  para fazer fazendo\n"
     ]
    },
    {
     "name": "stdout",
     "output_type": "stream",
     "text": [
      "Para Fazer:\n",
      "1 - Ler\n",
      "\n",
      "Fazendo:\n",
      "1 - Dormir\n",
      "\n"
     ]
    },
    {
     "name": "stdout",
     "output_type": "stream",
     "text": [
      "Digite um comando (Adicionar, Excluir, Alterar, Ver, Sair):  alterar\n",
      "Tipo de alteração (Fazer, Completar, Alterar):  fazer\n",
      "Nome da tarefa:  Ler\n",
      "Digite um comando (Adicionar, Excluir, Alterar, Ver, Sair):  ver\n",
      "Quais listas deseja imprimir? (Para fazer, Fazendo, Completo):  fazendo\n"
     ]
    },
    {
     "name": "stdout",
     "output_type": "stream",
     "text": [
      "Fazendo:\n",
      "1 - Dormir\n",
      "2 - Ler\n",
      "\n"
     ]
    },
    {
     "name": "stdout",
     "output_type": "stream",
     "text": [
      "Digite um comando (Adicionar, Excluir, Alterar, Ver, Sair):  alterar\n",
      "Tipo de alteração (Fazer, Completar, Alterar):  completar\n",
      "Nome da tarefa:  Dormir\n",
      "Digite um comando (Adicionar, Excluir, Alterar, Ver, Sair):  ver \n"
     ]
    },
    {
     "name": "stdout",
     "output_type": "stream",
     "text": [
      "Comando inválido!\n"
     ]
    },
    {
     "name": "stdout",
     "output_type": "stream",
     "text": [
      "Digite um comando (Adicionar, Excluir, Alterar, Ver, Sair):  ver\n",
      "Quais listas deseja imprimir? (Para fazer, Fazendo, Completo):  ver\n",
      "Digite um comando (Adicionar, Excluir, Alterar, Ver, Sair):  ver \n"
     ]
    },
    {
     "name": "stdout",
     "output_type": "stream",
     "text": [
      "Comando inválido!\n"
     ]
    },
    {
     "name": "stdout",
     "output_type": "stream",
     "text": [
      "Digite um comando (Adicionar, Excluir, Alterar, Ver, Sair):  sair\n"
     ]
    }
   ],
   "source": [
    "main_crud()"
   ]
  },
  {
   "cell_type": "markdown",
   "id": "8aeb8ff8-24c6-4685-8268-7acc791e6ecc",
   "metadata": {},
   "source": [
    "### Quinto erro: espaços vazios são removidos apenas do lado esquerdo."
   ]
  },
  {
   "cell_type": "code",
   "execution_count": 7,
   "id": "e9841a69-6afe-49bb-9936-b809d371fd89",
   "metadata": {},
   "outputs": [
    {
     "name": "stdout",
     "output_type": "stream",
     "text": [
      "Digite um comando (Adicionar, Excluir, Alterar, Ver, Sair):  adicionar\n",
      "Nome da tarefa:  Ler\n",
      "Tipo (Para Fazer, Fazendo):  para fazer\n",
      "Digite um comando (Adicionar, Excluir, Alterar, Ver, Sair):  adicionar\n",
      "Nome da tarefa:  Dormir\n",
      "Tipo (Para Fazer, Fazendo):  fazendo\n",
      "Digite um comando (Adicionar, Excluir, Alterar, Ver, Sair):  ver\n",
      "Quais listas deseja imprimir? (Para fazer, Fazendo, Completo):  para fazer fazendo\n"
     ]
    },
    {
     "name": "stdout",
     "output_type": "stream",
     "text": [
      "Para Fazer:\n",
      "1 - Ler\n",
      "\n",
      "Fazendo:\n",
      "1 - Dormir\n",
      "\n"
     ]
    },
    {
     "name": "stdout",
     "output_type": "stream",
     "text": [
      "Digite um comando (Adicionar, Excluir, Alterar, Ver, Sair):  alterar\n",
      "Tipo de alteração (Fazer, Completar, Alterar):  fazer\n",
      "Nome da tarefa:  Ler\n",
      "Digite um comando (Adicionar, Excluir, Alterar, Ver, Sair):  ver\n",
      "Quais listas deseja imprimir? (Para fazer, Fazendo, Completo):  para fazer fazendo completo\n"
     ]
    },
    {
     "name": "stdout",
     "output_type": "stream",
     "text": [
      "Para Fazer:\n",
      "\n",
      "Fazendo:\n",
      "1 - Dormir\n",
      "2 - Ler\n",
      "\n",
      "Completo:\n",
      "\n"
     ]
    },
    {
     "name": "stdout",
     "output_type": "stream",
     "text": [
      "Digite um comando (Adicionar, Excluir, Alterar, Ver, Sair):  alterar\n",
      "Tipo de alteração (Fazer, Completar, Alterar):  completar\n",
      "Nome da tarefa:  Dormir\n",
      "Digite um comando (Adicionar, Excluir, Alterar, Ver, Sair):  ver\n",
      "Quais listas deseja imprimir? (Para fazer, Fazendo, Completo):  fazendo completo\n"
     ]
    },
    {
     "name": "stdout",
     "output_type": "stream",
     "text": [
      "Fazendo:\n",
      "1 - Ler\n",
      "\n",
      "Completo:\n",
      "1 - Dormir\n",
      "\n"
     ]
    },
    {
     "name": "stdout",
     "output_type": "stream",
     "text": [
      "Digite um comando (Adicionar, Excluir, Alterar, Ver, Sair):  alterar\n",
      "Tipo de alteração (Fazer, Completar, Alterar):  alterar\n",
      "Nome da tarefa:  Ler\n",
      "Novo nome:  Estudar\n",
      "Digite um comando (Adicionar, Excluir, Alterar, Ver, Sair):  ver\n",
      "Quais listas deseja imprimir? (Para fazer, Fazendo, Completo):  fazendo\n"
     ]
    },
    {
     "name": "stdout",
     "output_type": "stream",
     "text": [
      "Fazendo:\n",
      "1 - Estudar\n",
      "\n"
     ]
    },
    {
     "name": "stdout",
     "output_type": "stream",
     "text": [
      "Digite um comando (Adicionar, Excluir, Alterar, Ver, Sair):  excluir\n",
      "Nome da tarefa:  Dormir\n",
      "Digite um comando (Adicionar, Excluir, Alterar, Ver, Sair):  ver\n",
      "Quais listas deseja imprimir? (Para fazer, Fazendo, Completo):  completo\n"
     ]
    },
    {
     "name": "stdout",
     "output_type": "stream",
     "text": [
      "Completo:\n",
      "\n"
     ]
    },
    {
     "name": "stdout",
     "output_type": "stream",
     "text": [
      "Digite um comando (Adicionar, Excluir, Alterar, Ver, Sair):  sair\n"
     ]
    }
   ],
   "source": [
    "main_crud()"
   ]
  },
  {
   "cell_type": "markdown",
   "id": "fbfbfc6a-46ca-45ca-bb8f-a5084d8ec0eb",
   "metadata": {},
   "source": [
    "### Sexto erro: seguindo as regras definidas pelos requisitos, o código ainda não aplica o requisto funcional 6."
   ]
  },
  {
   "cell_type": "code",
   "execution_count": 9,
   "id": "170bf1a8-688c-407a-aeb9-1d616d56af07",
   "metadata": {},
   "outputs": [
    {
     "name": "stdout",
     "output_type": "stream",
     "text": [
      "Digite um comando (Adicionar, Excluir, Alterar, Ver, Sair):  adicionar\n",
      "Nome da tarefa:  Ler\n",
      "Tipo (Para Fazer, Fazendo):  fazendo\n",
      "Digite um comando (Adicionar, Excluir, Alterar, Ver, Sair):  alterar\n",
      "Tipo de alteração (Fazer, Completar, Alterar):  completar\n",
      "Nome da tarefa:  Ler\n",
      "Digite um comando (Adicionar, Excluir, Alterar, Ver, Sair):  ver\n",
      "Quais listas deseja imprimir? (Para fazer, Fazendo, Completo):  completo\n"
     ]
    },
    {
     "name": "stdout",
     "output_type": "stream",
     "text": [
      "Completo:\n",
      "1 - Ler\n",
      "\n"
     ]
    },
    {
     "name": "stdout",
     "output_type": "stream",
     "text": [
      "Digite um comando (Adicionar, Excluir, Alterar, Ver, Sair):  adicionar\n",
      "Nome da tarefa:  Ler\n",
      "Tipo (Para Fazer, Fazendo):  para fazer\n",
      "Digite um comando (Adicionar, Excluir, Alterar, Ver, Sair):  ver\n",
      "Quais listas deseja imprimir? (Para fazer, Fazendo, Completo):  para fazer, completo\n"
     ]
    },
    {
     "name": "stdout",
     "output_type": "stream",
     "text": [
      "Para Fazer:\n",
      "1 - Ler\n",
      "\n",
      "Completo:\n",
      "\n"
     ]
    },
    {
     "name": "stdout",
     "output_type": "stream",
     "text": [
      "Digite um comando (Adicionar, Excluir, Alterar, Ver, Sair):  sair\n"
     ]
    }
   ],
   "source": [
    "main_crud()"
   ]
  }
 ],
 "metadata": {
  "kernelspec": {
   "display_name": ".venv",
   "language": "python",
   "name": "python3"
  },
  "language_info": {
   "codemirror_mode": {
    "name": "ipython",
    "version": 3
   },
   "file_extension": ".py",
   "mimetype": "text/x-python",
   "name": "python",
   "nbconvert_exporter": "python",
   "pygments_lexer": "ipython3",
   "version": "3.12.7"
  }
 },
 "nbformat": 4,
 "nbformat_minor": 5
}
